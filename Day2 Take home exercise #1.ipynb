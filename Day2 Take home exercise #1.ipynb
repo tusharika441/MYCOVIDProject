{
 "cells": [
  {
   "cell_type": "code",
   "execution_count": 8,
   "metadata": {},
   "outputs": [
    {
     "name": "stdout",
     "output_type": "stream",
     "text": [
      "['Maharastra', 'Tamil Nadu', 'Delhi', 'Gujarat', 'Uttar Pradesh', 'West Bengal', 'Rajasthan', 'Telengana', 'Karnataka', 'Andhra Pradesh', 'Haryana', 'Madhya Pradesh', 'Bihar', 'Assam', 'Jammu and Kashmir', 'Odisha', 'Punjab', 'Kerala', 'Chhattisgarh', 'Uttarakhand', 'Jharkhand', 'Goa', 'Tripura', 'Manipur', 'Himachal Pradesh', 'Ladakh', 'Puducherry', 'Nagaland', 'Chandigarh', 'Dadra and Nagar Haveli', 'Arunachal Pradesh', 'Mizoram', 'Andaman and Nicobar', 'Sikkim', 'Meghalaya', 'Lakshadweep']\n"
     ]
    }
   ],
   "source": [
    "List1= States= [\"Maharastra\",\n",
    "\"Tamil Nadu\",\n",
    "\"Delhi\",\n",
    "\"Gujarat\",\n",
    "\"Uttar Pradesh\",\n",
    "\"West Bengal\",\n",
    "\"Rajasthan\",\n",
    "\"Telengana\",\n",
    "\"Karnataka\",\n",
    "\"Andhra Pradesh\",\n",
    "\"Haryana\",\n",
    "\"Madhya Pradesh\",\n",
    "\"Bihar\",\n",
    "\"Assam\",\n",
    "\"Jammu and Kashmir\",\n",
    "\"Odisha\",\n",
    "\"Punjab\",\n",
    "\"Kerala\",\n",
    "\"Chhattisgarh\",\n",
    "\"Uttarakhand\",\n",
    "\"Jharkhand\",\n",
    "\"Goa\",\n",
    "\"Tripura\",\n",
    "\"Manipur\",\n",
    "\"Himachal Pradesh\",\n",
    "\"Ladakh\",\n",
    "\"Puducherry\",\n",
    "\"Nagaland\",\n",
    "\"Chandigarh\",\n",
    "\"Dadra and Nagar Haveli\",\n",
    "\"Arunachal Pradesh\",\n",
    "\"Mizoram\",\n",
    "\"Andaman and Nicobar\",\n",
    "\"Sikkim\",\n",
    "\"Meghalaya\",\n",
    "\"Lakshadweep\"]\n",
    "print(List1)\n"
   ]
  },
  {
   "cell_type": "code",
   "execution_count": 9,
   "metadata": {},
   "outputs": [
    {
     "name": "stdout",
     "output_type": "stream",
     "text": [
      "[186626, 98392, 92175, 33913, 24825, 19819, 18662, 18570, 18016, 16097, 15509, 14106, 10471, 9013, 7849, 7545, 5784, 4753, 3013, 2984, 2584, 1482, 1435, 1279, 1014, 990, 802, 501, 450, 230, 195, 162, 109, 102, 56]\n"
     ]
    }
   ],
   "source": [
    "List2= Confirmed =[186626,\n",
    "98392,\n",
    "92175,\n",
    "33913,\n",
    "24825,\n",
    "19819,\n",
    "18662,\n",
    "18570,\n",
    "18016,\n",
    "16097,\n",
    "15509,\n",
    "14106,\n",
    "10471,\n",
    "9013,\n",
    "7849,\n",
    "7545,\n",
    "5784,\n",
    "4753,\n",
    "3013,\n",
    "2984,\n",
    "2584,\n",
    "1482,\n",
    "1435,\n",
    "1279,\n",
    "1014,\n",
    "990,\n",
    "802,\n",
    "501,\n",
    "450,\n",
    "230,\n",
    "195,\n",
    "162,\n",
    "109,\n",
    "102,\n",
    "56]\n",
    "print(List2)\n"
   ]
  },
  {
   "cell_type": "code",
   "execution_count": 11,
   "metadata": {},
   "outputs": [
    {
     "name": "stdout",
     "output_type": "stream",
     "text": [
      "(101172, 56021, 63007, 24593, 17221, 13037, 14948, 9069, 8334, 7313, 11019, 10815, 8020, 6106, 4974, 5502, 4144, 2640, 2385, 2405, 1983, 734, 1146, 617, 628, 730, 331, 182, 389, 89, 66, 126, 51, 53, 42, 0)\n"
     ]
    }
   ],
   "source": [
    "List3 = Recovered=(101172,\n",
    "56021,\n",
    "63007,\n",
    "24593,\n",
    "17221,\n",
    "13037,\n",
    "14948,\n",
    "9069,\n",
    "8334,\n",
    "7313,\n",
    "11019,\n",
    "10815,\n",
    "8020,\n",
    "6106,\n",
    "4974,\n",
    "5502,\n",
    "4144,\n",
    "2640,\n",
    "2385,\n",
    "2405,\n",
    "1983,\n",
    "734,\n",
    "1146,\n",
    "617,\n",
    "628,\n",
    "730,\n",
    "331,\n",
    "182,\n",
    "389,\n",
    "89,\n",
    "66,\n",
    "126,\n",
    "51,\n",
    "53,\n",
    "42,\n",
    "0)\n",
    "print(List3)\n",
    "\n"
   ]
  },
  {
   "cell_type": "code",
   "execution_count": 77,
   "metadata": {},
   "outputs": [
    {
     "data": {
      "text/plain": [
       "{'Maharastra': 186626,\n",
       " 'Tamil Nadu': 98392,\n",
       " 'Delhi': 92175,\n",
       " 'Gujarat': 33913,\n",
       " 'Uttar Pradesh': 24825,\n",
       " 'West Bengal': 19819,\n",
       " 'Rajasthan': 18662,\n",
       " 'Telengana': 18570,\n",
       " 'Karnataka': 18016,\n",
       " 'Andhra Pradesh': 16097,\n",
       " 'Haryana': 15509,\n",
       " 'Madhya Pradesh': 14106,\n",
       " 'Bihar': 10471,\n",
       " 'Assam': 9013,\n",
       " 'Jammu and Kashmir': 7849,\n",
       " 'Odisha': 7545,\n",
       " 'Punjab': 5784,\n",
       " 'Kerala': 4753,\n",
       " 'Chhattisgarh': 3013,\n",
       " 'Uttarakhand': 2984,\n",
       " 'Jharkhand': 2584,\n",
       " 'Goa': 1482,\n",
       " 'Tripura': 1435,\n",
       " 'Manipur': 1279,\n",
       " 'Himachal Pradesh': 1014,\n",
       " 'Ladakh': 990,\n",
       " 'Puducherry': 802,\n",
       " 'Nagaland': 501,\n",
       " 'Chandigarh': 450,\n",
       " 'Dadra and Nagar Haveli': 230,\n",
       " 'Arunachal Pradesh': 195,\n",
       " 'Mizoram': 162,\n",
       " 'Andaman and Nicobar': 109,\n",
       " 'Sikkim': 102,\n",
       " 'Meghalaya': 56,\n",
       " 'Lakshadweep': 0}"
      ]
     },
     "execution_count": 77,
     "metadata": {},
     "output_type": "execute_result"
    }
   ],
   "source": [
    "Dictionary = {key: value for key, value in zip(List1, List2,)}\n",
    "Dictionary\n"
   ]
  },
  {
   "cell_type": "code",
   "execution_count": 13,
   "metadata": {},
   "outputs": [
    {
     "data": {
      "text/plain": [
       "{'Maharastra': 101172,\n",
       " 'Tamil Nadu': 56021,\n",
       " 'Delhi': 63007,\n",
       " 'Gujarat': 24593,\n",
       " 'Uttar Pradesh': 17221,\n",
       " 'West Bengal': 13037,\n",
       " 'Rajasthan': 14948,\n",
       " 'Telengana': 9069,\n",
       " 'Karnataka': 8334,\n",
       " 'Andhra Pradesh': 7313,\n",
       " 'Haryana': 11019,\n",
       " 'Madhya Pradesh': 10815,\n",
       " 'Bihar': 8020,\n",
       " 'Assam': 6106,\n",
       " 'Jammu and Kashmir': 4974,\n",
       " 'Odisha': 5502,\n",
       " 'Punjab': 4144,\n",
       " 'Kerala': 2640,\n",
       " 'Chhattisgarh': 2385,\n",
       " 'Uttarakhand': 2405,\n",
       " 'Jharkhand': 1983,\n",
       " 'Goa': 734,\n",
       " 'Tripura': 1146,\n",
       " 'Manipur': 617,\n",
       " 'Himachal Pradesh': 628,\n",
       " 'Ladakh': 730,\n",
       " 'Puducherry': 331,\n",
       " 'Nagaland': 182,\n",
       " 'Chandigarh': 389,\n",
       " 'Dadra and Nagar Haveli': 89,\n",
       " 'Arunachal Pradesh': 66,\n",
       " 'Mizoram': 126,\n",
       " 'Andaman and Nicobar': 51,\n",
       " 'Sikkim': 53,\n",
       " 'Meghalaya': 42,\n",
       " 'Lakshadweep': 0}"
      ]
     },
     "execution_count": 13,
     "metadata": {},
     "output_type": "execute_result"
    }
   ],
   "source": [
    "tuple = {key: value for key, value in zip(List1,List3)}\n",
    "tuple"
   ]
  },
  {
   "cell_type": "code",
   "execution_count": null,
   "metadata": {},
   "outputs": [],
   "source": []
  }
 ],
 "metadata": {
  "kernelspec": {
   "display_name": "Python 3",
   "language": "python",
   "name": "python3"
  },
  "language_info": {
   "codemirror_mode": {
    "name": "ipython",
    "version": 3
   },
   "file_extension": ".py",
   "mimetype": "text/x-python",
   "name": "python",
   "nbconvert_exporter": "python",
   "pygments_lexer": "ipython3",
   "version": "3.7.6"
  }
 },
 "nbformat": 4,
 "nbformat_minor": 4
}
