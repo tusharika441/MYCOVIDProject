{
 "cells": [
  {
   "cell_type": "code",
   "execution_count": 13,
   "metadata": {},
   "outputs": [
    {
     "name": "stdout",
     "output_type": "stream",
     "text": [
      "In Gwalior percentage change from 10th June 2020 to 12th june 2020 is 8.333333333333332\n"
     ]
    }
   ],
   "source": [
    "district=\"Gwalior\"\n",
    "x=1234\n",
    "y=12\n",
    "z=2\n",
    "w=13\n",
    "percentage_change=(w-y)/y*100\n",
    "print(\"In Gwalior percentage change from 10th June 2020 to 12th june 2020 is \" +str(percentage_change))"
   ]
  },
  {
   "cell_type": "code",
   "execution_count": null,
   "metadata": {},
   "outputs": [],
   "source": []
  }
 ],
 "metadata": {
  "kernelspec": {
   "display_name": "Python 3",
   "language": "python",
   "name": "python3"
  },
  "language_info": {
   "codemirror_mode": {
    "name": "ipython",
    "version": 3
   },
   "file_extension": ".py",
   "mimetype": "text/x-python",
   "name": "python",
   "nbconvert_exporter": "python",
   "pygments_lexer": "ipython3",
   "version": "3.7.6"
  }
 },
 "nbformat": 4,
 "nbformat_minor": 4
}
