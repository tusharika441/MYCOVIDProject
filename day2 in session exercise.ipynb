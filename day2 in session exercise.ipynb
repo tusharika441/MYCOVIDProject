{
 "cells": [
  {
   "cell_type": "markdown",
   "metadata": {},
   "source": [
    "# In session Exercise 1"
   ]
  },
  {
   "cell_type": "markdown",
   "metadata": {},
   "source": [
    "#List of 5 States"
   ]
  },
  {
   "cell_type": "code",
   "execution_count": 6,
   "metadata": {},
   "outputs": [
    {
     "name": "stdout",
     "output_type": "stream",
     "text": [
      "['Uttar Pradesh', 'Maharashtra', 'Rajasthan', 'Goa', 'Punjab']\n"
     ]
    }
   ],
   "source": [
    "List1 =[\"Uttar Pradesh\",\"Maharashtra\",\"Rajasthan\",\"Goa\",\"Punjab\"]                #States\n",
    "print(States)"
   ]
  },
  {
   "cell_type": "markdown",
   "metadata": {},
   "source": [
    "#List of Infected People of that 5 States"
   ]
  },
  {
   "cell_type": "code",
   "execution_count": 5,
   "metadata": {},
   "outputs": [
    {
     "name": "stdout",
     "output_type": "stream",
     "text": [
      "[19880, 286865, 9760, 2750, 6947]\n"
     ]
    }
   ],
   "source": [
    "List2 =[19880,286865,9760,2750,6947]               #Infected\n",
    "print(Infected)"
   ]
  },
  {
   "cell_type": "code",
   "execution_count": 28,
   "metadata": {},
   "outputs": [
    {
     "name": "stdout",
     "output_type": "stream",
     "text": [
      "Uttar Pradesh - 19880\n",
      "Maharashtra - 286865\n",
      "Rajasthan - 9760\n",
      "Goa - 2750\n",
      "Punjab - 6947\n"
     ]
    }
   ],
   "source": [
    "for i in range(len(List1)):\n",
    "    print(List1[i]+\" - \"+str(List2[i]))    #States with infected #Dictionary"
   ]
  },
  {
   "cell_type": "code",
   "execution_count": 29,
   "metadata": {},
   "outputs": [
    {
     "name": "stdout",
     "output_type": "stream",
     "text": [
      "States with infected\n"
     ]
    },
    {
     "data": {
      "text/plain": [
       "{'Uttar Pradesh': 19880,\n",
       " 'Maharashtra': 286865,\n",
       " 'Rajasthan': 9760,\n",
       " 'Goa': 2750,\n",
       " 'Punjab': 6947}"
      ]
     },
     "execution_count": 29,
     "metadata": {},
     "output_type": "execute_result"
    }
   ],
   "source": [
    "print(\"States with infected\")\n",
    "dict(zip(List1,List2))             #States with infected"
   ]
  },
  {
   "cell_type": "code",
   "execution_count": 30,
   "metadata": {},
   "outputs": [],
   "source": [
    "Recovered= (11865,146632,14657,1876,5779)"
   ]
  },
  {
   "cell_type": "code",
   "execution_count": 31,
   "metadata": {},
   "outputs": [
    {
     "data": {
      "text/plain": [
       "{'Uttar Pradesh': 11865,\n",
       " 'Maharashtra': 146632,\n",
       " 'Rajasthan': 14657,\n",
       " 'Goa': 1876,\n",
       " 'Punjab': 5779}"
      ]
     },
     "execution_count": 31,
     "metadata": {},
     "output_type": "execute_result"
    }
   ],
   "source": [
    "t=(11865,146632,14657,1876,5779)\n",
    "dict(zip(List1,t))   #States with recovered"
   ]
  },
  {
   "cell_type": "markdown",
   "metadata": {},
   "source": [
    "# In session Exercise 2"
   ]
  },
  {
   "cell_type": "code",
   "execution_count": 12,
   "metadata": {},
   "outputs": [],
   "source": [
    "district=\"mumbai\"\n",
    "infected=136596\n",
    "recovered=67890\n",
    "deaths=5732\n",
    "def ifr(deaths,infected):\n",
    "    ifr_value=(deaths/infected)*100\n",
    "    print(\" the ifr value is {:.3f}\".format(ifr_value)+\" %\")"
   ]
  },
  {
   "cell_type": "code",
   "execution_count": 13,
   "metadata": {},
   "outputs": [
    {
     "name": "stdout",
     "output_type": "stream",
     "text": [
      " the ifr value is 4.196 %\n"
     ]
    }
   ],
   "source": [
    "ifr(deaths,infected)"
   ]
  },
  {
   "cell_type": "code",
   "execution_count": 14,
   "metadata": {},
   "outputs": [
    {
     "name": "stdout",
     "output_type": "stream",
     "text": [
      " the cmr value is 7.79 %\n"
     ]
    }
   ],
   "source": [
    "def cmr(deaths,recovered):\n",
    "    cmr_value=(deaths/(recovered+deaths))*100\n",
    "    print(\" the cmr value is {:.2f}\".format(cmr_value)+\" %\")\n",
    "cmr(deaths,recovered)"
   ]
  },
  {
   "cell_type": "code",
   "execution_count": null,
   "metadata": {},
   "outputs": [],
   "source": []
  }
 ],
 "metadata": {
  "kernelspec": {
   "display_name": "Python 3",
   "language": "python",
   "name": "python3"
  },
  "language_info": {
   "codemirror_mode": {
    "name": "ipython",
    "version": 3
   },
   "file_extension": ".py",
   "mimetype": "text/x-python",
   "name": "python",
   "nbconvert_exporter": "python",
   "pygments_lexer": "ipython3",
   "version": "3.7.6"
  }
 },
 "nbformat": 4,
 "nbformat_minor": 4
}
