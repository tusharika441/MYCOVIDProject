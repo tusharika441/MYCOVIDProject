{
 "cells": [
  {
   "cell_type": "code",
   "execution_count": 1,
   "metadata": {},
   "outputs": [],
   "source": [
    "import pandas as pd\n",
    "from matplotlib import pyplot as plt\n",
    "import numpy as np"
   ]
  },
  {
   "cell_type": "code",
   "execution_count": 21,
   "metadata": {},
   "outputs": [],
   "source": [
    "df= pd.read_csv(\"covid_19_cases.csv\")"
   ]
  },
  {
   "cell_type": "code",
   "execution_count": 22,
   "metadata": {},
   "outputs": [
    {
     "name": "stdout",
     "output_type": "stream",
     "text": [
      "<class 'pandas.core.frame.DataFrame'>\n",
      "RangeIndex: 1081 entries, 0 to 1080\n",
      "Data columns (total 9 columns):\n",
      " #   Column                    Non-Null Count  Dtype \n",
      "---  ------                    --------------  ----- \n",
      " 0   Sno                       1081 non-null   int64 \n",
      " 1   Date                      1081 non-null   object\n",
      " 2   Time                      1081 non-null   object\n",
      " 3   State/UnionTerritory      1081 non-null   object\n",
      " 4   ConfirmedIndianNational   1081 non-null   object\n",
      " 5   ConfirmedForeignNational  1081 non-null   object\n",
      " 6   Cured                     1081 non-null   int64 \n",
      " 7   Deaths                    1081 non-null   int64 \n",
      " 8   Confirmed                 1081 non-null   int64 \n",
      "dtypes: int64(4), object(5)\n",
      "memory usage: 76.1+ KB\n"
     ]
    }
   ],
   "source": [
    "df.info()"
   ]
  },
  {
   "cell_type": "code",
   "execution_count": 26,
   "metadata": {
    "scrolled": true
   },
   "outputs": [
    {
     "data": {
      "text/html": [
       "<div>\n",
       "<style scoped>\n",
       "    .dataframe tbody tr th:only-of-type {\n",
       "        vertical-align: middle;\n",
       "    }\n",
       "\n",
       "    .dataframe tbody tr th {\n",
       "        vertical-align: top;\n",
       "    }\n",
       "\n",
       "    .dataframe thead th {\n",
       "        text-align: right;\n",
       "    }\n",
       "</style>\n",
       "<table border=\"1\" class=\"dataframe\">\n",
       "  <thead>\n",
       "    <tr style=\"text-align: right;\">\n",
       "      <th></th>\n",
       "      <th>Sno</th>\n",
       "      <th>Cured</th>\n",
       "      <th>Deaths</th>\n",
       "      <th>Confirmed</th>\n",
       "    </tr>\n",
       "  </thead>\n",
       "  <tbody>\n",
       "    <tr>\n",
       "      <th>count</th>\n",
       "      <td>1081.000000</td>\n",
       "      <td>1081.000000</td>\n",
       "      <td>1081.000000</td>\n",
       "      <td>1081.000000</td>\n",
       "    </tr>\n",
       "    <tr>\n",
       "      <th>mean</th>\n",
       "      <td>3063.000000</td>\n",
       "      <td>5244.168363</td>\n",
       "      <td>295.735430</td>\n",
       "      <td>9767.228492</td>\n",
       "    </tr>\n",
       "    <tr>\n",
       "      <th>std</th>\n",
       "      <td>312.202125</td>\n",
       "      <td>11347.078126</td>\n",
       "      <td>889.749349</td>\n",
       "      <td>21655.773010</td>\n",
       "    </tr>\n",
       "    <tr>\n",
       "      <th>min</th>\n",
       "      <td>2523.000000</td>\n",
       "      <td>0.000000</td>\n",
       "      <td>0.000000</td>\n",
       "      <td>1.000000</td>\n",
       "    </tr>\n",
       "    <tr>\n",
       "      <th>25%</th>\n",
       "      <td>2793.000000</td>\n",
       "      <td>67.000000</td>\n",
       "      <td>0.000000</td>\n",
       "      <td>330.000000</td>\n",
       "    </tr>\n",
       "    <tr>\n",
       "      <th>50%</th>\n",
       "      <td>3063.000000</td>\n",
       "      <td>1189.000000</td>\n",
       "      <td>11.000000</td>\n",
       "      <td>2545.000000</td>\n",
       "    </tr>\n",
       "    <tr>\n",
       "      <th>75%</th>\n",
       "      <td>3333.000000</td>\n",
       "      <td>4843.000000</td>\n",
       "      <td>170.000000</td>\n",
       "      <td>8762.000000</td>\n",
       "    </tr>\n",
       "    <tr>\n",
       "      <th>max</th>\n",
       "      <td>3603.000000</td>\n",
       "      <td>88960.000000</td>\n",
       "      <td>7610.000000</td>\n",
       "      <td>169883.000000</td>\n",
       "    </tr>\n",
       "  </tbody>\n",
       "</table>\n",
       "</div>"
      ],
      "text/plain": [
       "               Sno         Cured       Deaths      Confirmed\n",
       "count  1081.000000   1081.000000  1081.000000    1081.000000\n",
       "mean   3063.000000   5244.168363   295.735430    9767.228492\n",
       "std     312.202125  11347.078126   889.749349   21655.773010\n",
       "min    2523.000000      0.000000     0.000000       1.000000\n",
       "25%    2793.000000     67.000000     0.000000     330.000000\n",
       "50%    3063.000000   1189.000000    11.000000    2545.000000\n",
       "75%    3333.000000   4843.000000   170.000000    8762.000000\n",
       "max    3603.000000  88960.000000  7610.000000  169883.000000"
      ]
     },
     "execution_count": 26,
     "metadata": {},
     "output_type": "execute_result"
    }
   ],
   "source": [
    "df.describe()"
   ]
  },
  {
   "cell_type": "code",
   "execution_count": 27,
   "metadata": {},
   "outputs": [
    {
     "data": {
      "text/html": [
       "<div>\n",
       "<style scoped>\n",
       "    .dataframe tbody tr th:only-of-type {\n",
       "        vertical-align: middle;\n",
       "    }\n",
       "\n",
       "    .dataframe tbody tr th {\n",
       "        vertical-align: top;\n",
       "    }\n",
       "\n",
       "    .dataframe thead th {\n",
       "        text-align: right;\n",
       "    }\n",
       "</style>\n",
       "<table border=\"1\" class=\"dataframe\">\n",
       "  <thead>\n",
       "    <tr style=\"text-align: right;\">\n",
       "      <th></th>\n",
       "      <th>Sno</th>\n",
       "      <th>Date</th>\n",
       "      <th>Time</th>\n",
       "      <th>State/UnionTerritory</th>\n",
       "      <th>ConfirmedIndianNational</th>\n",
       "      <th>ConfirmedForeignNational</th>\n",
       "      <th>Cured</th>\n",
       "      <th>Deaths</th>\n",
       "      <th>Confirmed</th>\n",
       "    </tr>\n",
       "  </thead>\n",
       "  <tbody>\n",
       "    <tr>\n",
       "      <th>0</th>\n",
       "      <td>2523</td>\n",
       "      <td>01-06-2020</td>\n",
       "      <td>8:00 AM</td>\n",
       "      <td>Andaman and Nicobar Islands</td>\n",
       "      <td>-</td>\n",
       "      <td>-</td>\n",
       "      <td>33</td>\n",
       "      <td>0</td>\n",
       "      <td>33</td>\n",
       "    </tr>\n",
       "    <tr>\n",
       "      <th>1</th>\n",
       "      <td>2524</td>\n",
       "      <td>01-06-2020</td>\n",
       "      <td>8:00 AM</td>\n",
       "      <td>Andhra Pradesh</td>\n",
       "      <td>-</td>\n",
       "      <td>-</td>\n",
       "      <td>2349</td>\n",
       "      <td>62</td>\n",
       "      <td>3679</td>\n",
       "    </tr>\n",
       "    <tr>\n",
       "      <th>2</th>\n",
       "      <td>2525</td>\n",
       "      <td>01-06-2020</td>\n",
       "      <td>8:00 AM</td>\n",
       "      <td>Arunachal Pradesh</td>\n",
       "      <td>-</td>\n",
       "      <td>-</td>\n",
       "      <td>1</td>\n",
       "      <td>0</td>\n",
       "      <td>4</td>\n",
       "    </tr>\n",
       "    <tr>\n",
       "      <th>3</th>\n",
       "      <td>2526</td>\n",
       "      <td>01-06-2020</td>\n",
       "      <td>8:00 AM</td>\n",
       "      <td>Assam</td>\n",
       "      <td>-</td>\n",
       "      <td>-</td>\n",
       "      <td>185</td>\n",
       "      <td>4</td>\n",
       "      <td>1272</td>\n",
       "    </tr>\n",
       "    <tr>\n",
       "      <th>4</th>\n",
       "      <td>2527</td>\n",
       "      <td>01-06-2020</td>\n",
       "      <td>8:00 AM</td>\n",
       "      <td>Bihar</td>\n",
       "      <td>-</td>\n",
       "      <td>-</td>\n",
       "      <td>1710</td>\n",
       "      <td>21</td>\n",
       "      <td>3815</td>\n",
       "    </tr>\n",
       "  </tbody>\n",
       "</table>\n",
       "</div>"
      ],
      "text/plain": [
       "    Sno        Date     Time         State/UnionTerritory  \\\n",
       "0  2523  01-06-2020  8:00 AM  Andaman and Nicobar Islands   \n",
       "1  2524  01-06-2020  8:00 AM               Andhra Pradesh   \n",
       "2  2525  01-06-2020  8:00 AM            Arunachal Pradesh   \n",
       "3  2526  01-06-2020  8:00 AM                        Assam   \n",
       "4  2527  01-06-2020  8:00 AM                        Bihar   \n",
       "\n",
       "  ConfirmedIndianNational ConfirmedForeignNational  Cured  Deaths  Confirmed  \n",
       "0                       -                        -     33       0         33  \n",
       "1                       -                        -   2349      62       3679  \n",
       "2                       -                        -      1       0          4  \n",
       "3                       -                        -    185       4       1272  \n",
       "4                       -                        -   1710      21       3815  "
      ]
     },
     "execution_count": 27,
     "metadata": {},
     "output_type": "execute_result"
    }
   ],
   "source": [
    "pandemic.head()"
   ]
  },
  {
   "cell_type": "code",
   "execution_count": null,
   "metadata": {},
   "outputs": [],
   "source": []
  },
  {
   "cell_type": "code",
   "execution_count": 12,
   "metadata": {},
   "outputs": [],
   "source": []
  },
  {
   "cell_type": "code",
   "execution_count": null,
   "metadata": {},
   "outputs": [],
   "source": []
  },
  {
   "cell_type": "code",
   "execution_count": null,
   "metadata": {},
   "outputs": [],
   "source": []
  },
  {
   "cell_type": "code",
   "execution_count": 80,
   "metadata": {},
   "outputs": [],
   "source": [
    "maha= pd.DataFrame(pandemic[pandemic['State/UnionTerritory']=='Maharashtra'])"
   ]
  },
  {
   "cell_type": "code",
   "execution_count": 81,
   "metadata": {},
   "outputs": [
    {
     "data": {
      "text/html": [
       "<div>\n",
       "<style scoped>\n",
       "    .dataframe tbody tr th:only-of-type {\n",
       "        vertical-align: middle;\n",
       "    }\n",
       "\n",
       "    .dataframe tbody tr th {\n",
       "        vertical-align: top;\n",
       "    }\n",
       "\n",
       "    .dataframe thead th {\n",
       "        text-align: right;\n",
       "    }\n",
       "</style>\n",
       "<table border=\"1\" class=\"dataframe\">\n",
       "  <thead>\n",
       "    <tr style=\"text-align: right;\">\n",
       "      <th></th>\n",
       "      <th>Sno</th>\n",
       "      <th>Date</th>\n",
       "      <th>Time</th>\n",
       "      <th>State/UnionTerritory</th>\n",
       "      <th>ConfirmedIndianNational</th>\n",
       "      <th>ConfirmedForeignNational</th>\n",
       "      <th>Cured</th>\n",
       "      <th>Deaths</th>\n",
       "      <th>Confirmed</th>\n",
       "    </tr>\n",
       "  </thead>\n",
       "  <tbody>\n",
       "    <tr>\n",
       "      <th>19</th>\n",
       "      <td>2542</td>\n",
       "      <td>01-06-2020</td>\n",
       "      <td>8:00 AM</td>\n",
       "      <td>Maharashtra</td>\n",
       "      <td>-</td>\n",
       "      <td>-</td>\n",
       "      <td>29329</td>\n",
       "      <td>2286</td>\n",
       "      <td>67655</td>\n",
       "    </tr>\n",
       "    <tr>\n",
       "      <th>55</th>\n",
       "      <td>2578</td>\n",
       "      <td>02-06-2020</td>\n",
       "      <td>8:00 AM</td>\n",
       "      <td>Maharashtra</td>\n",
       "      <td>-</td>\n",
       "      <td>-</td>\n",
       "      <td>30108</td>\n",
       "      <td>2362</td>\n",
       "      <td>70013</td>\n",
       "    </tr>\n",
       "    <tr>\n",
       "      <th>91</th>\n",
       "      <td>2614</td>\n",
       "      <td>03-06-2020</td>\n",
       "      <td>8:00 AM</td>\n",
       "      <td>Maharashtra</td>\n",
       "      <td>-</td>\n",
       "      <td>-</td>\n",
       "      <td>31333</td>\n",
       "      <td>2465</td>\n",
       "      <td>72300</td>\n",
       "    </tr>\n",
       "    <tr>\n",
       "      <th>127</th>\n",
       "      <td>2650</td>\n",
       "      <td>04-06-2020</td>\n",
       "      <td>8:00 AM</td>\n",
       "      <td>Maharashtra</td>\n",
       "      <td>-</td>\n",
       "      <td>-</td>\n",
       "      <td>32329</td>\n",
       "      <td>2587</td>\n",
       "      <td>74860</td>\n",
       "    </tr>\n",
       "    <tr>\n",
       "      <th>163</th>\n",
       "      <td>2686</td>\n",
       "      <td>05-06-2020</td>\n",
       "      <td>8:00 AM</td>\n",
       "      <td>Maharashtra</td>\n",
       "      <td>-</td>\n",
       "      <td>-</td>\n",
       "      <td>33681</td>\n",
       "      <td>2710</td>\n",
       "      <td>77793</td>\n",
       "    </tr>\n",
       "  </tbody>\n",
       "</table>\n",
       "</div>"
      ],
      "text/plain": [
       "      Sno        Date     Time State/UnionTerritory ConfirmedIndianNational  \\\n",
       "19   2542  01-06-2020  8:00 AM          Maharashtra                       -   \n",
       "55   2578  02-06-2020  8:00 AM          Maharashtra                       -   \n",
       "91   2614  03-06-2020  8:00 AM          Maharashtra                       -   \n",
       "127  2650  04-06-2020  8:00 AM          Maharashtra                       -   \n",
       "163  2686  05-06-2020  8:00 AM          Maharashtra                       -   \n",
       "\n",
       "    ConfirmedForeignNational  Cured  Deaths  Confirmed  \n",
       "19                         -  29329    2286      67655  \n",
       "55                         -  30108    2362      70013  \n",
       "91                         -  31333    2465      72300  \n",
       "127                        -  32329    2587      74860  \n",
       "163                        -  33681    2710      77793  "
      ]
     },
     "execution_count": 81,
     "metadata": {},
     "output_type": "execute_result"
    }
   ],
   "source": [
    "maha.head()"
   ]
  },
  {
   "cell_type": "code",
   "execution_count": 78,
   "metadata": {},
   "outputs": [
    {
     "data": {
      "image/png": "[encoded data removed]",
      "text/plain": [
       "<Figure size 720x648 with 1 Axes>"
      ]
     },
     "metadata": {
      "needs_background": "light"
     },
     "output_type": "display_data"
    }
   ],
   "source": [
    "plt.figure(figsize=(10,9))\n",
    "\n",
    "\n",
    "\n",
    "plt.plot(maha.Date,maha.Deaths,\n",
    "'g+-',label=\"Deaths\")\n",
    "\n",
    "plt.plot(maha.Date,maha.Cured,\n",
    "'b^-',label=\"Cured\")\n",
    "\n",
    "plt.plot(maha.Date,maha.Confirmed,\n",
    "'c*-',label=\"Confirmed\")\n",
    "\n",
    "\n",
    "\n",
    "plt.xlabel(\"Date\")\n",
    "\n",
    "plt.ylabel(\"Confirmed cases\")\n",
    "\n",
    "plt.title(\"Covid19 Analysis 'Maharashtra'\")\n",
    "\n",
    "plt.xticks(maha.Date[0:30:4].tolist())\n",
    "plt.show()"
   ]
  },
  {
   "cell_type": "code",
   "execution_count": 82,
   "metadata": {},
   "outputs": [
    {
     "data": {
      "text/plain": [
       "([<matplotlib.axis.XTick at 0x2833dca86c8>,\n",
       "  <matplotlib.axis.XTick at 0x2833f196348>,\n",
       "  <matplotlib.axis.XTick at 0x2833dc9ee48>,\n",
       "  <matplotlib.axis.XTick at 0x2833f389388>,\n",
       "  <matplotlib.axis.XTick at 0x2833f389288>],\n",
       " <a list of 5 Text xticklabel objects>)"
      ]
     },
     "execution_count": 82,
     "metadata": {},
     "output_type": "execute_result"
    },
    {
     "data": {
      "image/png": "[encoded data removed]",
      "text/plain": [
       "<Figure size 432x288 with 1 Axes>"
      ]
     },
     "metadata": {
      "needs_background": "light"
     },
     "output_type": "display_data"
    }
   ],
   "source": [
    "plt.grid()\n",
    "plt.scatter(maha.Date,maha.Confirmed)\n",
    "plt.scatter(maha.Date,maha.Deaths,color='g',label=\"Deaths\",alpha=0.8)\n",
    "plt.scatter(maha.Date,maha.Cured,color='b',label=\"Cured\",alpha=1)\n",
    "plt.title(\"Covid19 Analysis 'Maharashtra'\")\n",
    "plt.xlabel(\"Date\")\n",
    "plt.ylabel(\"Confirmed cases\")\n",
    "plt.xticks(maha.Date[0:30:6].tolist())"
   ]
  },
  {
   "cell_type": "code",
   "execution_count": null,
   "metadata": {},
   "outputs": [],
   "source": []
  }
 ],
 "metadata": {
  "kernelspec": {
   "display_name": "Python 3",
   "language": "python",
   "name": "python3"
  },
  "language_info": {
   "codemirror_mode": {
    "name": "ipython",
    "version": 3
   },
   "file_extension": ".py",
   "mimetype": "text/x-python",
   "name": "python",
   "nbconvert_exporter": "python",
   "pygments_lexer": "ipython3",
   "version": "3.7.6"
  }
 },
 "nbformat": 4,
 "nbformat_minor": 4
}
