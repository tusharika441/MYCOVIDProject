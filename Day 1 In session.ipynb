{
 "cells": [
  {
   "cell_type": "markdown",
   "metadata": {},
   "source": [
    "## In session exercise Day 1\n"
   ]
  },
  {
   "cell_type": "code",
   "execution_count": 5,
   "metadata": {},
   "outputs": [
    {
     "name": "stdout",
     "output_type": "stream",
     "text": [
      "In district percentage change from 10th June 2020 to 12th june 2020 is 8.33 %\n"
     ]
    }
   ],
   "source": [
    "district=\"Gwalior\"\n",
    "infected_total=1234\n",
    "infected_10=12\n",
    "infected_11=2\n",
    "infected_12=13\n",
    "percentage_change=(infected_12-infected_10)/infected_10*100\n",
    "print(\"In district percentage change from 10th June 2020 to 12th june 2020 is {0:.2f} \".format(percentage_change )+\"%\")"
   ]
  },
  {
   "cell_type": "markdown",
   "metadata": {},
   "source": [
    "\n"
   ]
  },
  {
   "cell_type": "code",
   "execution_count": null,
   "metadata": {},
   "outputs": [],
   "source": []
  }
 ],
 "metadata": {
  "kernelspec": {
   "display_name": "Python 3",
   "language": "python",
   "name": "python3"
  },
  "language_info": {
   "codemirror_mode": {
    "name": "ipython",
    "version": 3
   },
   "file_extension": ".py",
   "mimetype": "text/x-python",
   "name": "python",
   "nbconvert_exporter": "python",
   "pygments_lexer": "ipython3",
   "version": "3.7.6"
  }
 },
 "nbformat": 4,
 "nbformat_minor": 4
}
