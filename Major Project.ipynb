{
 "cells": [
  {
   "cell_type": "code",
   "execution_count": 1,
   "metadata": {},
   "outputs": [],
   "source": [
    "import numpy as np\n",
    "import pandas as pd\n",
    "import matplotlib.pyplot as plt\n",
    "import seaborn as sb\n",
    "import sklearn as sk"
   ]
  },
  {
   "cell_type": "code",
   "execution_count": 6,
   "metadata": {},
   "outputs": [
    {
     "data": {
      "text/html": [
       "<div>\n",
       "<style scoped>\n",
       "    .dataframe tbody tr th:only-of-type {\n",
       "        vertical-align: middle;\n",
       "    }\n",
       "\n",
       "    .dataframe tbody tr th {\n",
       "        vertical-align: top;\n",
       "    }\n",
       "\n",
       "    .dataframe thead th {\n",
       "        text-align: right;\n",
       "    }\n",
       "</style>\n",
       "<table border=\"1\" class=\"dataframe\">\n",
       "  <thead>\n",
       "    <tr style=\"text-align: right;\">\n",
       "      <th></th>\n",
       "      <th>Sno</th>\n",
       "      <th>Date</th>\n",
       "      <th>Time</th>\n",
       "      <th>State/UnionTerritory</th>\n",
       "      <th>ConfirmedIndianNational</th>\n",
       "      <th>ConfirmedForeignNational</th>\n",
       "      <th>Cured</th>\n",
       "      <th>Deaths</th>\n",
       "      <th>Confirmed</th>\n",
       "    </tr>\n",
       "  </thead>\n",
       "  <tbody>\n",
       "    <tr>\n",
       "      <th>0</th>\n",
       "      <td>82</td>\n",
       "      <td>09-03-2020</td>\n",
       "      <td>6:00 PM</td>\n",
       "      <td>Jammu and Kashmir</td>\n",
       "      <td>1</td>\n",
       "      <td>0</td>\n",
       "      <td>0</td>\n",
       "      <td>0</td>\n",
       "      <td>1</td>\n",
       "    </tr>\n",
       "    <tr>\n",
       "      <th>1</th>\n",
       "      <td>97</td>\n",
       "      <td>10-03-2020</td>\n",
       "      <td>6:00 PM</td>\n",
       "      <td>Jammu and Kashmir</td>\n",
       "      <td>1</td>\n",
       "      <td>0</td>\n",
       "      <td>0</td>\n",
       "      <td>0</td>\n",
       "      <td>1</td>\n",
       "    </tr>\n",
       "    <tr>\n",
       "      <th>2</th>\n",
       "      <td>107</td>\n",
       "      <td>11-03-2020</td>\n",
       "      <td>6:00 PM</td>\n",
       "      <td>Jammu and Kashmir</td>\n",
       "      <td>1</td>\n",
       "      <td>0</td>\n",
       "      <td>0</td>\n",
       "      <td>0</td>\n",
       "      <td>1</td>\n",
       "    </tr>\n",
       "    <tr>\n",
       "      <th>3</th>\n",
       "      <td>118</td>\n",
       "      <td>12-03-2020</td>\n",
       "      <td>6:00 PM</td>\n",
       "      <td>Jammu and Kashmir</td>\n",
       "      <td>1</td>\n",
       "      <td>0</td>\n",
       "      <td>0</td>\n",
       "      <td>0</td>\n",
       "      <td>1</td>\n",
       "    </tr>\n",
       "    <tr>\n",
       "      <th>4</th>\n",
       "      <td>131</td>\n",
       "      <td>13-03-2020</td>\n",
       "      <td>6:00 PM</td>\n",
       "      <td>Jammu and Kashmir</td>\n",
       "      <td>1</td>\n",
       "      <td>0</td>\n",
       "      <td>0</td>\n",
       "      <td>0</td>\n",
       "      <td>1</td>\n",
       "    </tr>\n",
       "    <tr>\n",
       "      <th>...</th>\n",
       "      <td>...</td>\n",
       "      <td>...</td>\n",
       "      <td>...</td>\n",
       "      <td>...</td>\n",
       "      <td>...</td>\n",
       "      <td>...</td>\n",
       "      <td>...</td>\n",
       "      <td>...</td>\n",
       "      <td>...</td>\n",
       "    </tr>\n",
       "    <tr>\n",
       "      <th>111</th>\n",
       "      <td>3509</td>\n",
       "      <td>28-06-2020</td>\n",
       "      <td>8:00 AM</td>\n",
       "      <td>Jammu and Kashmir</td>\n",
       "      <td>-</td>\n",
       "      <td>-</td>\n",
       "      <td>4225</td>\n",
       "      <td>93</td>\n",
       "      <td>6966</td>\n",
       "    </tr>\n",
       "    <tr>\n",
       "      <th>112</th>\n",
       "      <td>3545</td>\n",
       "      <td>29-06-2020</td>\n",
       "      <td>8:00 AM</td>\n",
       "      <td>Jammu and Kashmir</td>\n",
       "      <td>-</td>\n",
       "      <td>-</td>\n",
       "      <td>4316</td>\n",
       "      <td>94</td>\n",
       "      <td>7093</td>\n",
       "    </tr>\n",
       "    <tr>\n",
       "      <th>113</th>\n",
       "      <td>3581</td>\n",
       "      <td>30-06-2020</td>\n",
       "      <td>8:00 AM</td>\n",
       "      <td>Jammu and Kashmir</td>\n",
       "      <td>-</td>\n",
       "      <td>-</td>\n",
       "      <td>4585</td>\n",
       "      <td>95</td>\n",
       "      <td>7237</td>\n",
       "    </tr>\n",
       "    <tr>\n",
       "      <th>114</th>\n",
       "      <td>3617</td>\n",
       "      <td>01-07-2020</td>\n",
       "      <td>8:00 AM</td>\n",
       "      <td>Jammu and Kashmir</td>\n",
       "      <td>-</td>\n",
       "      <td>-</td>\n",
       "      <td>4722</td>\n",
       "      <td>101</td>\n",
       "      <td>7497</td>\n",
       "    </tr>\n",
       "    <tr>\n",
       "      <th>115</th>\n",
       "      <td>3653</td>\n",
       "      <td>02-07-2020</td>\n",
       "      <td>8:00 AM</td>\n",
       "      <td>Jammu and Kashmir</td>\n",
       "      <td>-</td>\n",
       "      <td>-</td>\n",
       "      <td>4856</td>\n",
       "      <td>105</td>\n",
       "      <td>7695</td>\n",
       "    </tr>\n",
       "  </tbody>\n",
       "</table>\n",
       "<p>116 rows × 9 columns</p>\n",
       "</div>"
      ],
      "text/plain": [
       "      Sno        Date     Time State/UnionTerritory ConfirmedIndianNational  \\\n",
       "0      82  09-03-2020  6:00 PM    Jammu and Kashmir                       1   \n",
       "1      97  10-03-2020  6:00 PM    Jammu and Kashmir                       1   \n",
       "2     107  11-03-2020  6:00 PM    Jammu and Kashmir                       1   \n",
       "3     118  12-03-2020  6:00 PM    Jammu and Kashmir                       1   \n",
       "4     131  13-03-2020  6:00 PM    Jammu and Kashmir                       1   \n",
       "..    ...         ...      ...                  ...                     ...   \n",
       "111  3509  28-06-2020  8:00 AM    Jammu and Kashmir                       -   \n",
       "112  3545  29-06-2020  8:00 AM    Jammu and Kashmir                       -   \n",
       "113  3581  30-06-2020  8:00 AM    Jammu and Kashmir                       -   \n",
       "114  3617  01-07-2020  8:00 AM    Jammu and Kashmir                       -   \n",
       "115  3653  02-07-2020  8:00 AM    Jammu and Kashmir                       -   \n",
       "\n",
       "    ConfirmedForeignNational  Cured  Deaths  Confirmed  \n",
       "0                          0      0       0          1  \n",
       "1                          0      0       0          1  \n",
       "2                          0      0       0          1  \n",
       "3                          0      0       0          1  \n",
       "4                          0      0       0          1  \n",
       "..                       ...    ...     ...        ...  \n",
       "111                        -   4225      93       6966  \n",
       "112                        -   4316      94       7093  \n",
       "113                        -   4585      95       7237  \n",
       "114                        -   4722     101       7497  \n",
       "115                        -   4856     105       7695  \n",
       "\n",
       "[116 rows x 9 columns]"
      ]
     },
     "execution_count": 6,
     "metadata": {},
     "output_type": "execute_result"
    }
   ],
   "source": [
    "df = pd.read_csv(\"cases 1.csv\")\n",
    "df\n"
   ]
  },
  {
   "cell_type": "code",
   "execution_count": 7,
   "metadata": {},
   "outputs": [
    {
     "data": {
      "text/plain": [
       "<bound method NDFrame.tail of       Sno        Date     Time State/UnionTerritory ConfirmedIndianNational  \\\n",
       "0      82  09-03-2020  6:00 PM    Jammu and Kashmir                       1   \n",
       "1      97  10-03-2020  6:00 PM    Jammu and Kashmir                       1   \n",
       "2     107  11-03-2020  6:00 PM    Jammu and Kashmir                       1   \n",
       "3     118  12-03-2020  6:00 PM    Jammu and Kashmir                       1   \n",
       "4     131  13-03-2020  6:00 PM    Jammu and Kashmir                       1   \n",
       "..    ...         ...      ...                  ...                     ...   \n",
       "111  3509  28-06-2020  8:00 AM    Jammu and Kashmir                       -   \n",
       "112  3545  29-06-2020  8:00 AM    Jammu and Kashmir                       -   \n",
       "113  3581  30-06-2020  8:00 AM    Jammu and Kashmir                       -   \n",
       "114  3617  01-07-2020  8:00 AM    Jammu and Kashmir                       -   \n",
       "115  3653  02-07-2020  8:00 AM    Jammu and Kashmir                       -   \n",
       "\n",
       "    ConfirmedForeignNational  Cured  Deaths  Confirmed  \n",
       "0                          0      0       0          1  \n",
       "1                          0      0       0          1  \n",
       "2                          0      0       0          1  \n",
       "3                          0      0       0          1  \n",
       "4                          0      0       0          1  \n",
       "..                       ...    ...     ...        ...  \n",
       "111                        -   4225      93       6966  \n",
       "112                        -   4316      94       7093  \n",
       "113                        -   4585      95       7237  \n",
       "114                        -   4722     101       7497  \n",
       "115                        -   4856     105       7695  \n",
       "\n",
       "[116 rows x 9 columns]>"
      ]
     },
     "execution_count": 7,
     "metadata": {},
     "output_type": "execute_result"
    }
   ],
   "source": [
    "df.tail"
   ]
  },
  {
   "cell_type": "code",
   "execution_count": 8,
   "metadata": {},
   "outputs": [
    {
     "data": {
      "text/plain": [
       "<bound method NDFrame.head of       Sno        Date     Time State/UnionTerritory ConfirmedIndianNational  \\\n",
       "0      82  09-03-2020  6:00 PM    Jammu and Kashmir                       1   \n",
       "1      97  10-03-2020  6:00 PM    Jammu and Kashmir                       1   \n",
       "2     107  11-03-2020  6:00 PM    Jammu and Kashmir                       1   \n",
       "3     118  12-03-2020  6:00 PM    Jammu and Kashmir                       1   \n",
       "4     131  13-03-2020  6:00 PM    Jammu and Kashmir                       1   \n",
       "..    ...         ...      ...                  ...                     ...   \n",
       "111  3509  28-06-2020  8:00 AM    Jammu and Kashmir                       -   \n",
       "112  3545  29-06-2020  8:00 AM    Jammu and Kashmir                       -   \n",
       "113  3581  30-06-2020  8:00 AM    Jammu and Kashmir                       -   \n",
       "114  3617  01-07-2020  8:00 AM    Jammu and Kashmir                       -   \n",
       "115  3653  02-07-2020  8:00 AM    Jammu and Kashmir                       -   \n",
       "\n",
       "    ConfirmedForeignNational  Cured  Deaths  Confirmed  \n",
       "0                          0      0       0          1  \n",
       "1                          0      0       0          1  \n",
       "2                          0      0       0          1  \n",
       "3                          0      0       0          1  \n",
       "4                          0      0       0          1  \n",
       "..                       ...    ...     ...        ...  \n",
       "111                        -   4225      93       6966  \n",
       "112                        -   4316      94       7093  \n",
       "113                        -   4585      95       7237  \n",
       "114                        -   4722     101       7497  \n",
       "115                        -   4856     105       7695  \n",
       "\n",
       "[116 rows x 9 columns]>"
      ]
     },
     "execution_count": 8,
     "metadata": {},
     "output_type": "execute_result"
    }
   ],
   "source": [
    "df.head"
   ]
  },
  {
   "cell_type": "code",
   "execution_count": 9,
   "metadata": {},
   "outputs": [
    {
     "data": {
      "text/plain": [
       "<bound method DataFrame.info of       Sno        Date     Time State/UnionTerritory ConfirmedIndianNational  \\\n",
       "0      82  09-03-2020  6:00 PM    Jammu and Kashmir                       1   \n",
       "1      97  10-03-2020  6:00 PM    Jammu and Kashmir                       1   \n",
       "2     107  11-03-2020  6:00 PM    Jammu and Kashmir                       1   \n",
       "3     118  12-03-2020  6:00 PM    Jammu and Kashmir                       1   \n",
       "4     131  13-03-2020  6:00 PM    Jammu and Kashmir                       1   \n",
       "..    ...         ...      ...                  ...                     ...   \n",
       "111  3509  28-06-2020  8:00 AM    Jammu and Kashmir                       -   \n",
       "112  3545  29-06-2020  8:00 AM    Jammu and Kashmir                       -   \n",
       "113  3581  30-06-2020  8:00 AM    Jammu and Kashmir                       -   \n",
       "114  3617  01-07-2020  8:00 AM    Jammu and Kashmir                       -   \n",
       "115  3653  02-07-2020  8:00 AM    Jammu and Kashmir                       -   \n",
       "\n",
       "    ConfirmedForeignNational  Cured  Deaths  Confirmed  \n",
       "0                          0      0       0          1  \n",
       "1                          0      0       0          1  \n",
       "2                          0      0       0          1  \n",
       "3                          0      0       0          1  \n",
       "4                          0      0       0          1  \n",
       "..                       ...    ...     ...        ...  \n",
       "111                        -   4225      93       6966  \n",
       "112                        -   4316      94       7093  \n",
       "113                        -   4585      95       7237  \n",
       "114                        -   4722     101       7497  \n",
       "115                        -   4856     105       7695  \n",
       "\n",
       "[116 rows x 9 columns]>"
      ]
     },
     "execution_count": 9,
     "metadata": {},
     "output_type": "execute_result"
    }
   ],
   "source": [
    "df.info"
   ]
  },
  {
   "cell_type": "code",
   "execution_count": 12,
   "metadata": {},
   "outputs": [
    {
     "data": {
      "text/html": [
       "<div>\n",
       "<style scoped>\n",
       "    .dataframe tbody tr th:only-of-type {\n",
       "        vertical-align: middle;\n",
       "    }\n",
       "\n",
       "    .dataframe tbody tr th {\n",
       "        vertical-align: top;\n",
       "    }\n",
       "\n",
       "    .dataframe thead th {\n",
       "        text-align: right;\n",
       "    }\n",
       "</style>\n",
       "<table border=\"1\" class=\"dataframe\">\n",
       "  <thead>\n",
       "    <tr style=\"text-align: right;\">\n",
       "      <th></th>\n",
       "      <th>State/UnionTerritory</th>\n",
       "      <th>Cured</th>\n",
       "      <th>Confirmed</th>\n",
       "      <th>Deaths</th>\n",
       "    </tr>\n",
       "  </thead>\n",
       "  <tbody>\n",
       "    <tr>\n",
       "      <th>0</th>\n",
       "      <td>Jammu and Kashmir</td>\n",
       "      <td>0</td>\n",
       "      <td>1</td>\n",
       "      <td>0</td>\n",
       "    </tr>\n",
       "    <tr>\n",
       "      <th>1</th>\n",
       "      <td>Jammu and Kashmir</td>\n",
       "      <td>0</td>\n",
       "      <td>1</td>\n",
       "      <td>0</td>\n",
       "    </tr>\n",
       "    <tr>\n",
       "      <th>2</th>\n",
       "      <td>Jammu and Kashmir</td>\n",
       "      <td>0</td>\n",
       "      <td>1</td>\n",
       "      <td>0</td>\n",
       "    </tr>\n",
       "    <tr>\n",
       "      <th>3</th>\n",
       "      <td>Jammu and Kashmir</td>\n",
       "      <td>0</td>\n",
       "      <td>1</td>\n",
       "      <td>0</td>\n",
       "    </tr>\n",
       "    <tr>\n",
       "      <th>4</th>\n",
       "      <td>Jammu and Kashmir</td>\n",
       "      <td>0</td>\n",
       "      <td>1</td>\n",
       "      <td>0</td>\n",
       "    </tr>\n",
       "    <tr>\n",
       "      <th>...</th>\n",
       "      <td>...</td>\n",
       "      <td>...</td>\n",
       "      <td>...</td>\n",
       "      <td>...</td>\n",
       "    </tr>\n",
       "    <tr>\n",
       "      <th>111</th>\n",
       "      <td>Jammu and Kashmir</td>\n",
       "      <td>4225</td>\n",
       "      <td>6966</td>\n",
       "      <td>93</td>\n",
       "    </tr>\n",
       "    <tr>\n",
       "      <th>112</th>\n",
       "      <td>Jammu and Kashmir</td>\n",
       "      <td>4316</td>\n",
       "      <td>7093</td>\n",
       "      <td>94</td>\n",
       "    </tr>\n",
       "    <tr>\n",
       "      <th>113</th>\n",
       "      <td>Jammu and Kashmir</td>\n",
       "      <td>4585</td>\n",
       "      <td>7237</td>\n",
       "      <td>95</td>\n",
       "    </tr>\n",
       "    <tr>\n",
       "      <th>114</th>\n",
       "      <td>Jammu and Kashmir</td>\n",
       "      <td>4722</td>\n",
       "      <td>7497</td>\n",
       "      <td>101</td>\n",
       "    </tr>\n",
       "    <tr>\n",
       "      <th>115</th>\n",
       "      <td>Jammu and Kashmir</td>\n",
       "      <td>4856</td>\n",
       "      <td>7695</td>\n",
       "      <td>105</td>\n",
       "    </tr>\n",
       "  </tbody>\n",
       "</table>\n",
       "<p>116 rows × 4 columns</p>\n",
       "</div>"
      ],
      "text/plain": [
       "    State/UnionTerritory  Cured  Confirmed  Deaths\n",
       "0      Jammu and Kashmir      0          1       0\n",
       "1      Jammu and Kashmir      0          1       0\n",
       "2      Jammu and Kashmir      0          1       0\n",
       "3      Jammu and Kashmir      0          1       0\n",
       "4      Jammu and Kashmir      0          1       0\n",
       "..                   ...    ...        ...     ...\n",
       "111    Jammu and Kashmir   4225       6966      93\n",
       "112    Jammu and Kashmir   4316       7093      94\n",
       "113    Jammu and Kashmir   4585       7237      95\n",
       "114    Jammu and Kashmir   4722       7497     101\n",
       "115    Jammu and Kashmir   4856       7695     105\n",
       "\n",
       "[116 rows x 4 columns]"
      ]
     },
     "execution_count": 12,
     "metadata": {},
     "output_type": "execute_result"
    }
   ],
   "source": [
    "df_corr = df[[\"State/UnionTerritory\",\"Cured\",\"Confirmed\",\"Deaths\"]]\n",
    "df_corr"
   ]
  },
  {
   "cell_type": "code",
   "execution_count": 13,
   "metadata": {},
   "outputs": [
    {
     "data": {
      "text/html": [
       "<div>\n",
       "<style scoped>\n",
       "    .dataframe tbody tr th:only-of-type {\n",
       "        vertical-align: middle;\n",
       "    }\n",
       "\n",
       "    .dataframe tbody tr th {\n",
       "        vertical-align: top;\n",
       "    }\n",
       "\n",
       "    .dataframe thead th {\n",
       "        text-align: right;\n",
       "    }\n",
       "</style>\n",
       "<table border=\"1\" class=\"dataframe\">\n",
       "  <thead>\n",
       "    <tr style=\"text-align: right;\">\n",
       "      <th></th>\n",
       "      <th>State/UnionTerritory</th>\n",
       "      <th>Cured</th>\n",
       "      <th>Confirmed</th>\n",
       "      <th>Deaths</th>\n",
       "    </tr>\n",
       "  </thead>\n",
       "  <tbody>\n",
       "    <tr>\n",
       "      <th>0</th>\n",
       "      <td>Jammu and Kashmir</td>\n",
       "      <td>0</td>\n",
       "      <td>1</td>\n",
       "      <td>0</td>\n",
       "    </tr>\n",
       "    <tr>\n",
       "      <th>1</th>\n",
       "      <td>Jammu and Kashmir</td>\n",
       "      <td>0</td>\n",
       "      <td>1</td>\n",
       "      <td>0</td>\n",
       "    </tr>\n",
       "    <tr>\n",
       "      <th>2</th>\n",
       "      <td>Jammu and Kashmir</td>\n",
       "      <td>0</td>\n",
       "      <td>1</td>\n",
       "      <td>0</td>\n",
       "    </tr>\n",
       "    <tr>\n",
       "      <th>3</th>\n",
       "      <td>Jammu and Kashmir</td>\n",
       "      <td>0</td>\n",
       "      <td>1</td>\n",
       "      <td>0</td>\n",
       "    </tr>\n",
       "    <tr>\n",
       "      <th>4</th>\n",
       "      <td>Jammu and Kashmir</td>\n",
       "      <td>0</td>\n",
       "      <td>1</td>\n",
       "      <td>0</td>\n",
       "    </tr>\n",
       "    <tr>\n",
       "      <th>...</th>\n",
       "      <td>...</td>\n",
       "      <td>...</td>\n",
       "      <td>...</td>\n",
       "      <td>...</td>\n",
       "    </tr>\n",
       "    <tr>\n",
       "      <th>111</th>\n",
       "      <td>Jammu and Kashmir</td>\n",
       "      <td>4225</td>\n",
       "      <td>6966</td>\n",
       "      <td>93</td>\n",
       "    </tr>\n",
       "    <tr>\n",
       "      <th>112</th>\n",
       "      <td>Jammu and Kashmir</td>\n",
       "      <td>4316</td>\n",
       "      <td>7093</td>\n",
       "      <td>94</td>\n",
       "    </tr>\n",
       "    <tr>\n",
       "      <th>113</th>\n",
       "      <td>Jammu and Kashmir</td>\n",
       "      <td>4585</td>\n",
       "      <td>7237</td>\n",
       "      <td>95</td>\n",
       "    </tr>\n",
       "    <tr>\n",
       "      <th>114</th>\n",
       "      <td>Jammu and Kashmir</td>\n",
       "      <td>4722</td>\n",
       "      <td>7497</td>\n",
       "      <td>101</td>\n",
       "    </tr>\n",
       "    <tr>\n",
       "      <th>115</th>\n",
       "      <td>Jammu and Kashmir</td>\n",
       "      <td>4856</td>\n",
       "      <td>7695</td>\n",
       "      <td>105</td>\n",
       "    </tr>\n",
       "  </tbody>\n",
       "</table>\n",
       "<p>116 rows × 4 columns</p>\n",
       "</div>"
      ],
      "text/plain": [
       "    State/UnionTerritory  Cured  Confirmed  Deaths\n",
       "0      Jammu and Kashmir      0          1       0\n",
       "1      Jammu and Kashmir      0          1       0\n",
       "2      Jammu and Kashmir      0          1       0\n",
       "3      Jammu and Kashmir      0          1       0\n",
       "4      Jammu and Kashmir      0          1       0\n",
       "..                   ...    ...        ...     ...\n",
       "111    Jammu and Kashmir   4225       6966      93\n",
       "112    Jammu and Kashmir   4316       7093      94\n",
       "113    Jammu and Kashmir   4585       7237      95\n",
       "114    Jammu and Kashmir   4722       7497     101\n",
       "115    Jammu and Kashmir   4856       7695     105\n",
       "\n",
       "[116 rows x 4 columns]"
      ]
     },
     "execution_count": 13,
     "metadata": {},
     "output_type": "execute_result"
    }
   ],
   "source": [
    "value = df_corr\n",
    "value"
   ]
  },
  {
   "cell_type": "code",
   "execution_count": 15,
   "metadata": {},
   "outputs": [
    {
     "data": {
      "image/png": "[encoded data removed]",
      "text/plain": [
       "<Figure size 432x288 with 1 Axes>"
      ]
     },
     "metadata": {
      "needs_background": "light"
     },
     "output_type": "display_data"
    }
   ],
   "source": [
    "boxplot =value.boxplot(['Cured'])\n",
    "plt.title(\"Recovered Cases in Jammu Kashmir from 9 Mar to 2 July\")\n",
    "plt.show()"
   ]
  },
  {
   "cell_type": "code",
   "execution_count": 18,
   "metadata": {},
   "outputs": [
    {
     "data": {
      "image/png": "[encoded data removed]",
      "text/plain": [
       "<Figure size 432x288 with 1 Axes>"
      ]
     },
     "metadata": {
      "needs_background": "light"
     },
     "output_type": "display_data"
    }
   ],
   "source": [
    "plt.title(\"Deaths Cases in Chattisgarh from 9 Mar to 2 July\")\n",
    "boxplot =value.boxplot(['Deaths'])\n",
    "plt.show()"
   ]
  },
  {
   "cell_type": "code",
   "execution_count": 20,
   "metadata": {},
   "outputs": [
    {
     "data": {
      "text/plain": [
       "<matplotlib.axes._subplots.AxesSubplot at 0x1f9517200c8>"
      ]
     },
     "execution_count": 20,
     "metadata": {},
     "output_type": "execute_result"
    },
    {
     "data": {
      "image/png": "[encoded data removed]",
      "text/plain": [
       "<Figure size 432x288 with 1 Axes>"
      ]
     },
     "metadata": {
      "needs_background": "light"
     },
     "output_type": "display_data"
    }
   ],
   "source": [
    "sb.scatterplot(x=\"Cured\", y= \"Deaths\",data=df_corr)"
   ]
  },
  {
   "cell_type": "code",
   "execution_count": 23,
   "metadata": {},
   "outputs": [
    {
     "data": {
      "text/plain": [
       "Text(0.5, 1.0, 'Cured Cases in Jammu and Kashmir')"
      ]
     },
     "execution_count": 23,
     "metadata": {},
     "output_type": "execute_result"
    },
    {
     "data": {
      "image/png": "[encoded data removed]",
      "text/plain": [
       "<Figure size 648x360 with 1 Axes>"
      ]
     },
     "metadata": {
      "needs_background": "light"
     },
     "output_type": "display_data"
    }
   ],
   "source": [
    "plt.figure(figsize = (9, 5)) \n",
    "df['Cured'].plot(kind =\"hist\") \n",
    "plt.title(\"Cured Cases in Jammu and Kashmir\")"
   ]
  },
  {
   "cell_type": "code",
   "execution_count": 24,
   "metadata": {},
   "outputs": [
    {
     "data": {
      "text/plain": [
       "Text(0.5, 1.0, 'Confirmed Cases in Jammu and Kashmir')"
      ]
     },
     "execution_count": 24,
     "metadata": {},
     "output_type": "execute_result"
    },
    {
     "data": {
      "image/png": "[encoded data removed]",
      "text/plain": [
       "<Figure size 648x360 with 1 Axes>"
      ]
     },
     "metadata": {
      "needs_background": "light"
     },
     "output_type": "display_data"
    }
   ],
   "source": [
    "plt.figure(figsize = (9, 5)) \n",
    "df['Confirmed'].plot(kind =\"hist\",color=\"cyan\") \n",
    "\n",
    "plt.title(\"Confirmed Cases in Jammu and Kashmir\")"
   ]
  },
  {
   "cell_type": "code",
   "execution_count": 26,
   "metadata": {},
   "outputs": [
    {
     "data": {
      "text/plain": [
       "Text(0.5, 1.0, 'Deaths in Jammu and Kashmir mar to july')"
      ]
     },
     "execution_count": 26,
     "metadata": {},
     "output_type": "execute_result"
    },
    {
     "data": {
      "image/png": "[encoded data removed]",
      "text/plain": [
       "<Figure size 648x360 with 1 Axes>"
      ]
     },
     "metadata": {
      "needs_background": "light"
     },
     "output_type": "display_data"
    }
   ],
   "source": [
    "plt.figure(figsize = (9, 5)) \n",
    "df['Deaths'].plot(kind =\"hist\") \n",
    "plt.title(\"Deaths in Jammu and Kashmir mar to july\")"
   ]
  },
  {
   "cell_type": "code",
   "execution_count": 27,
   "metadata": {},
   "outputs": [
    {
     "data": {
      "text/html": [
       "<div>\n",
       "<style scoped>\n",
       "    .dataframe tbody tr th:only-of-type {\n",
       "        vertical-align: middle;\n",
       "    }\n",
       "\n",
       "    .dataframe tbody tr th {\n",
       "        vertical-align: top;\n",
       "    }\n",
       "\n",
       "    .dataframe thead th {\n",
       "        text-align: right;\n",
       "    }\n",
       "</style>\n",
       "<table border=\"1\" class=\"dataframe\">\n",
       "  <thead>\n",
       "    <tr style=\"text-align: right;\">\n",
       "      <th></th>\n",
       "      <th>Sno</th>\n",
       "      <th>Cured</th>\n",
       "      <th>Deaths</th>\n",
       "      <th>Confirmed</th>\n",
       "    </tr>\n",
       "  </thead>\n",
       "  <tbody>\n",
       "    <tr>\n",
       "      <th>Sno</th>\n",
       "      <td>1.000000</td>\n",
       "      <td>0.847686</td>\n",
       "      <td>0.886104</td>\n",
       "      <td>0.904808</td>\n",
       "    </tr>\n",
       "    <tr>\n",
       "      <th>Cured</th>\n",
       "      <td>0.847686</td>\n",
       "      <td>1.000000</td>\n",
       "      <td>0.990850</td>\n",
       "      <td>0.977400</td>\n",
       "    </tr>\n",
       "    <tr>\n",
       "      <th>Deaths</th>\n",
       "      <td>0.886104</td>\n",
       "      <td>0.990850</td>\n",
       "      <td>1.000000</td>\n",
       "      <td>0.994197</td>\n",
       "    </tr>\n",
       "    <tr>\n",
       "      <th>Confirmed</th>\n",
       "      <td>0.904808</td>\n",
       "      <td>0.977400</td>\n",
       "      <td>0.994197</td>\n",
       "      <td>1.000000</td>\n",
       "    </tr>\n",
       "  </tbody>\n",
       "</table>\n",
       "</div>"
      ],
      "text/plain": [
       "                Sno     Cured    Deaths  Confirmed\n",
       "Sno        1.000000  0.847686  0.886104   0.904808\n",
       "Cured      0.847686  1.000000  0.990850   0.977400\n",
       "Deaths     0.886104  0.990850  1.000000   0.994197\n",
       "Confirmed  0.904808  0.977400  0.994197   1.000000"
      ]
     },
     "execution_count": 27,
     "metadata": {},
     "output_type": "execute_result"
    }
   ],
   "source": [
    "df.corr(method ='pearson')"
   ]
  },
  {
   "cell_type": "code",
   "execution_count": 28,
   "metadata": {},
   "outputs": [
    {
     "data": {
      "text/html": [
       "<div>\n",
       "<style scoped>\n",
       "    .dataframe tbody tr th:only-of-type {\n",
       "        vertical-align: middle;\n",
       "    }\n",
       "\n",
       "    .dataframe tbody tr th {\n",
       "        vertical-align: top;\n",
       "    }\n",
       "\n",
       "    .dataframe thead th {\n",
       "        text-align: right;\n",
       "    }\n",
       "</style>\n",
       "<table border=\"1\" class=\"dataframe\">\n",
       "  <thead>\n",
       "    <tr style=\"text-align: right;\">\n",
       "      <th></th>\n",
       "      <th>Sno</th>\n",
       "      <th>Cured</th>\n",
       "      <th>Deaths</th>\n",
       "      <th>Confirmed</th>\n",
       "    </tr>\n",
       "  </thead>\n",
       "  <tbody>\n",
       "    <tr>\n",
       "      <th>Sno</th>\n",
       "      <td>1.000000</td>\n",
       "      <td>0.988313</td>\n",
       "      <td>0.975333</td>\n",
       "      <td>0.997523</td>\n",
       "    </tr>\n",
       "    <tr>\n",
       "      <th>Cured</th>\n",
       "      <td>0.988313</td>\n",
       "      <td>1.000000</td>\n",
       "      <td>0.984845</td>\n",
       "      <td>0.990766</td>\n",
       "    </tr>\n",
       "    <tr>\n",
       "      <th>Deaths</th>\n",
       "      <td>0.975333</td>\n",
       "      <td>0.984845</td>\n",
       "      <td>1.000000</td>\n",
       "      <td>0.977601</td>\n",
       "    </tr>\n",
       "    <tr>\n",
       "      <th>Confirmed</th>\n",
       "      <td>0.997523</td>\n",
       "      <td>0.990766</td>\n",
       "      <td>0.977601</td>\n",
       "      <td>1.000000</td>\n",
       "    </tr>\n",
       "  </tbody>\n",
       "</table>\n",
       "</div>"
      ],
      "text/plain": [
       "                Sno     Cured    Deaths  Confirmed\n",
       "Sno        1.000000  0.988313  0.975333   0.997523\n",
       "Cured      0.988313  1.000000  0.984845   0.990766\n",
       "Deaths     0.975333  0.984845  1.000000   0.977601\n",
       "Confirmed  0.997523  0.990766  0.977601   1.000000"
      ]
     },
     "execution_count": 28,
     "metadata": {},
     "output_type": "execute_result"
    }
   ],
   "source": [
    "df.corr(method ='kendall')"
   ]
  },
  {
   "cell_type": "code",
   "execution_count": null,
   "metadata": {},
   "outputs": [],
   "source": []
  }
 ],
 "metadata": {
  "kernelspec": {
   "display_name": "Python 3",
   "language": "python",
   "name": "python3"
  },
  "language_info": {
   "codemirror_mode": {
    "name": "ipython",
    "version": 3
   },
   "file_extension": ".py",
   "mimetype": "text/x-python",
   "name": "python",
   "nbconvert_exporter": "python",
   "pygments_lexer": "ipython3",
   "version": "3.7.6"
  }
 },
 "nbformat": 4,
 "nbformat_minor": 4
}
