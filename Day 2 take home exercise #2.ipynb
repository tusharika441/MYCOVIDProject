{
 "cells": [
  {
   "cell_type": "code",
   "execution_count": 4,
   "metadata": {},
   "outputs": [
    {
     "name": "stderr",
     "output_type": "stream",
     "text": [
      "Exception in Tkinter callback\n",
      "Traceback (most recent call last):\n",
      "  File \"C:\\Users\\AVITA\\anaconda3\\lib\\tkinter\\__init__.py\", line 1705, in __call__\n",
      "    return self.func(*args)\n",
      "  File \"<ipython-input-4-f34d1c6a902f>\", line 56, in cmr_clicked\n",
      "    tk.messagebox.showinfo(title=\"CMR\",message=cmr())\n",
      "  File \"<ipython-input-4-f34d1c6a902f>\", line 45, in cmr\n",
      "    x=int(deaths_till_date.get())\n",
      "ValueError: invalid literal for int() with base 10: ''\n",
      "Exception in Tkinter callback\n",
      "Traceback (most recent call last):\n",
      "  File \"C:\\Users\\AVITA\\anaconda3\\lib\\tkinter\\__init__.py\", line 1705, in __call__\n",
      "    return self.func(*args)\n",
      "  File \"<ipython-input-4-f34d1c6a902f>\", line 58, in ifr_clicked\n",
      "    tk.messagebox.showinfo(title=\"IFR\",message=ifr())\n",
      "  File \"<ipython-input-4-f34d1c6a902f>\", line 50, in ifr\n",
      "    a=int(recovered_till_date.get())\n",
      "ValueError: invalid literal for int() with base 10: ''\n"
     ]
    }
   ],
   "source": [
    "import tkinter as tk\n",
    "import tkinter.messagebox\n",
    "import tkinter.ttk as tik\n",
    "states= [\"Maharastra\",\n",
    "         \"TamilNadu\",\n",
    "         \"Delhi\",\n",
    "         \"Gujarat\",\n",
    "         \"Karnataka\"]\n",
    "Infected=[187000,98392,92175,33913,18016]\n",
    "Recovered=[101000,56021,63007,24598,8335]\n",
    "Deaths=[8376,1385,2923,1904,293]\n",
    "window =tk.Tk()\n",
    "window.geometry('500x380')\n",
    "window.title('Pandemic Analytics Engine')\n",
    "window.configure(background='black')\n",
    "Label=tk.Label(window,text =\"Pandemic Analyzer\" , bg='black' , fg='dark blue' ,font=('Helvetica',28)).grid(column=1,row=1)\n",
    "Label=tk.Label(window,text=\"Select state :\",fg='yellow',bg='black',font=('Helvetica',18)).grid(column=1,row=2)\n",
    "variable=tk.StringVar(window)\n",
    "variable.set(states[0])\n",
    "opt=tk.OptionMenu(window,variable, *states)\n",
    "opt.config(width=10,font=('helvetica',17))\n",
    "opt.grid(row=2,column=2)\n",
    "infected=tk.Label(window,text=\"Infected Total Till Today : \",fg=\"white\",bg=\"black\",font=(\"helvetica\",18)).grid(column=1,row=4)\n",
    "infected_total=tk.Entry(window,width=24)\n",
    "variable=tk.StringVar(window)\n",
    "variable.set(Infected[0])\n",
    "opt=tk.OptionMenu(window,variable, *Infected)\n",
    "opt.config(width=10,font=('helvetica',15))\n",
    "opt.grid(row=4,column=2)\n",
    "recovered=tk.Label(window,text=\"Recovered till date :\",fg=\"green\",bg=\"black\",font=(\"helvetica\",18)).grid(column=1,row=6)\n",
    "recovered_till_date=tk.Entry(window,width=24)\n",
    "variable=tk.StringVar(window)\n",
    "variable.set(Recovered[0])\n",
    "opt=tk.OptionMenu(window,variable, *Recovered)\n",
    "opt.config(width=10,font=('helvetica',14))\n",
    "opt. grid(row=6,column=2)\n",
    "deaths=tk.Label(window,text=\"Deaths till Date : \",bg=\"black\",fg=\"red\",font=(\"helvetica\",18)).grid(column=1,row=7)\n",
    "deaths_till_date=tk.Entry(window,width=24)\n",
    "variable=tk.StringVar(window)\n",
    "variable.set(Deaths[0])\n",
    "opt=tk.OptionMenu(window,variable, *Deaths)\n",
    "opt.config(width=10,font=('helvetica',14))\n",
    "opt. grid(row=7,column=2)\n",
    "def cmr():\n",
    "    x=int(deaths_till_date.get())\n",
    "    y=int(infected_total.get())\n",
    "    return((x/y)*100)\n",
    "    \n",
    "def ifr():\n",
    "    a=int(recovered_till_date.get())\n",
    "    b=int(infected_total.get())\n",
    "    return((a/b)*100)\n",
    "\n",
    "    \n",
    "def cmr_clicked():\n",
    "    tk.messagebox.showinfo(title=\"CMR\",message=cmr())\n",
    "def ifr_clicked():\n",
    "    tk.messagebox.showinfo(title=\"IFR\",message=ifr())\n",
    "CMR=tk.Button(window,text=\"CMR\",bg=\"red\",fg=\"white\",width=10,command=cmr_clicked).grid(column=2,row=10)\n",
    "IFR=tk.Button(window,text=\"IFR\",bg=\"green\",fg=\"white\",width=10,command=ifr_clicked).grid(column=2,row=11)\n",
    "\n",
    "window.mainloop()"
   ]
  },
  {
   "cell_type": "code",
   "execution_count": null,
   "metadata": {},
   "outputs": [],
   "source": []
  }
 ],
 "metadata": {
  "kernelspec": {
   "display_name": "Python 3",
   "language": "python",
   "name": "python3"
  },
  "language_info": {
   "codemirror_mode": {
    "name": "ipython",
    "version": 3
   },
   "file_extension": ".py",
   "mimetype": "text/x-python",
   "name": "python",
   "nbconvert_exporter": "python",
   "pygments_lexer": "ipython3",
   "version": "3.7.6"
  }
 },
 "nbformat": 4,
 "nbformat_minor": 4
}
